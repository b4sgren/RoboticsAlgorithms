{
 "cells": [
  {
   "cell_type": "code",
   "execution_count": 1,
   "metadata": {},
   "outputs": [],
   "source": [
    "#!/usr/bin/env python3\n",
    "'''\n",
    "Based on the work done in \n",
    "On-Manifold Preintegration for Real-Time Visual-Inertial Odometry (Carlone et al.),\n",
    "and Vision-Based Control of Multirotor Systems (yet to be published)\n",
    "'''\n",
    "\n",
    "import numpy as np\n",
    "from scipy.linalg import expm, logm\n",
    "import matplotlib.pyplot as plt\n",
    "from copy import deepcopy\n",
    "from IPython.core.debugger import Pdb\n",
    "\n",
    "def skew(v):\n",
    "    return np.array([[0, -v[2], v[1]],\n",
    "                    [v[2], 0, -v[0]],\n",
    "                    [-v[1], v[0], 0]])\n",
    "def vee(R):\n",
    "    return np.array([R[2,1], R[0,2], R[1,0]])"
   ]
  },
  {
   "cell_type": "code",
   "execution_count": 2,
   "metadata": {},
   "outputs": [],
   "source": [
    "class IMU:\n",
    "    def __init__(self):\n",
    "        self.ba = np.zeros(3) #Leave as zeros for now\n",
    "        self.bw = np.zeros(3)\n",
    "        self.covar_a = np.diag([0.00561, 0.00561, 0.00561]) #from quadsim\n",
    "        self.covar_w = np.diag([0.00025, 0.00025, 0.00025]) #from quadsim\n",
    "    \n",
    "    def getMeas(self, a_nom, w_nom):\n",
    "        noise_a = np.random.multivariate_normal(np.zeros(3), self.covar_a)\n",
    "        noise_w = np.random.multivariate_normal(np.zeros(3), self.covar_w)\n",
    "        a = a_nom #+ self.ba + noise_a\n",
    "        w = w_nom #+ self.bw + noise_w\n",
    "        \n",
    "        return a, w"
   ]
  },
  {
   "cell_type": "code",
   "execution_count": 3,
   "metadata": {},
   "outputs": [],
   "source": [
    "class State:\n",
    "    def __init__(self, p=np.zeros(3), v=np.zeros(3), R=np.eye(3), w=np.zeros(3)):\n",
    "        self.p_i = p\n",
    "        self.v_i = v\n",
    "        self.Ri_from_b = R\n",
    "        self.w_b = w\n",
    "    \n",
    "    def __mul__(self, dt):\n",
    "        self.p_i = self.p_i * dt\n",
    "        self.v_i = self.v_i * dt\n",
    "        self.Ri_from_b = self.Ri_from_b * dt\n",
    "        self.w_b = self.w_b * dt #Note that this isn't alpha. It is still omega\n",
    "        \n",
    "        return self\n",
    "    \n",
    "    def __rmul__(self, val):\n",
    "        return self * val\n",
    "    \n",
    "    def __add__(self, dx):\n",
    "        self.p_i = self.p_i + dx.p_i\n",
    "        self.v_i = self.v_i + dx.v_i\n",
    "        self.Ri_from_b = self.Ri_from_b @ expm(skew(dx.w_b))\n",
    "        \n",
    "        return self\n",
    "    \n",
    "    def __sub__(self, state2):\n",
    "        dp = (self.p_i - state2.p_i)\n",
    "        dv = (self.v_i - state2.v_i)\n",
    "        dR = self.Ri_from_b.T @ state2.Ri_from_b\n",
    "        \n",
    "        return State(dp, dv, dR)\n",
    "    \n",
    "    def reset(self):\n",
    "        self.p_i = np.zeros(3)\n",
    "        self.v_i = np.zeros(3)\n",
    "        self.Ri_from_b = np.eye(3)\n",
    "        self.w_b = np.zeros(3)\n",
    "    \n",
    "    def normalize(self): #Graham Schmidt orthonormalization of rotation matrix\n",
    "        x = self.Ri_from_b[:,0] / np.linalg.norm(self.Ri_from_b[:,0])\n",
    "        y = skew(self.Ri_from_b[:,2]) @ x\n",
    "        y = y / np.linalg.norm(y)\n",
    "        z = skew(x) @ y\n",
    "        z = z/np.linalg.norm(z)\n",
    "        self.Ri_from_b = np.array([[*x], [*y], [*z]]).T\n",
    "    \n",
    "    def preIntegrate(self, a, w, dt):\n",
    "        Rik = self.Ri_from_b.copy()\n",
    "        v_ik = self.v_i.copy()\n",
    "        self.Ri_from_b = self.Ri_from_b @ expm(skew(w) * dt)\n",
    "#         self.v_i += self.Ri_from_b @ a * dt\n",
    "#         self.p_i += self.v_i * dt + (dt**2)/2 * self.Ri_from_b @ a\n",
    "        self.v_i += Rik @ a * dt\n",
    "        self.p_i += v_ik * dt + (dt**2)/2 * Rik @ a"
   ]
  },
  {
   "cell_type": "code",
   "execution_count": 4,
   "metadata": {},
   "outputs": [],
   "source": [
    "class Multirotor:\n",
    "    def __init__(self, m, J):\n",
    "        self.m = m\n",
    "        self.J = J\n",
    "        self.g = 9.81\n",
    "        \n",
    "        # Define states for the multirotor\n",
    "        self.state = State()\n",
    "    \n",
    "    def dynamics(self, state, a_b, w_b):\n",
    "        v_i = state.v_i\n",
    "        Ri_from_b = state.Ri_from_b\n",
    "        e3 = np.array([0, 0, 1])\n",
    "        \n",
    "        state_dot = State()\n",
    "        state_dot.p_i = v_i\n",
    "        state_dot.v_i = self.g * e3 + Ri_from_b @ a_b\n",
    "        state_dot.Ri_from_b = Ri_from_b @ skew(w_b)\n",
    "        state_dot.w_b = w_b #Not the derivative but this will be used in the integration\n",
    "        \n",
    "        return state_dot\n",
    "    \n",
    "    def update(self, a, w, dt):\n",
    "#         k1 = self.dynamics(self.state, u)\n",
    "#         k2 = self.dynamics(self.state + k1 * (dt/2), u)\n",
    "#         k3 = self.dynamics(self.state + k2 * (dt/2), u)\n",
    "#         k4 = self.dynamics(self.state + k3 * dt, u)\n",
    "        \n",
    "#         self.state = self.state + (dt/6) * (k1 + 2 * k2 + 2*k3 + k4)\n",
    "        dx = self.dynamics(self.state, a, w)\n",
    "        self.state = self.state + dt * dx\n",
    "        return self.state\n"
   ]
  },
  {
   "cell_type": "code",
   "execution_count": 5,
   "metadata": {},
   "outputs": [
    {
     "name": "stdout",
     "output_type": "stream",
     "text": [
      "[4.95000000e-01 1.89029348e-17 5.35095000e+00]\n",
      "[1.00000000e+00 7.23683266e-17 1.08100000e+01]\n",
      "[[ 0.99500833 -0.099667    0.00499167]\n",
      " [ 0.099667    0.99001666 -0.099667  ]\n",
      " [ 0.00499167  0.099667    0.99500833]]\n",
      "1.0\n"
     ]
    }
   ],
   "source": [
    "mass = 2.856\n",
    "J = np.diag([.07, .08, .12])\n",
    "\n",
    "quad = Multirotor(mass, J)\n",
    "#Test to see if dynamics work\n",
    "for i in range(100):\n",
    "    a = np.array([1, 0, 1])\n",
    "    w = np.array([.1, 0.0, .1])\n",
    "    dt = .01\n",
    "    temp = quad.update(a, w, dt)\n",
    "    if not np.linalg.det(temp.Ri_from_b) == 1.0:\n",
    "        quad.state.normalize()\n",
    "print(temp.p_i)\n",
    "print(temp.v_i)\n",
    "print(temp.Ri_from_b)\n",
    "print(np.linalg.det(temp.Ri_from_b))\n",
    "\n",
    "def getAccel(t):\n",
    "    T = 5\n",
    "    A = 0.1\n",
    "    ax = A * np.cos(2 * np.pi/T * t)\n",
    "    ay = A * np.sin(2 * np.pi/T * t)\n",
    "    az = A * np.cos(2 * np.pi/T * t - np.pi/4)\n",
    "    return np.array([ax, ay, az])\n",
    "\n",
    "def getGyro(t):\n",
    "    T = 5\n",
    "    A = 0.1\n",
    "    wx = A * np.cos(2 * np.pi/T * t)\n",
    "    wy = A * np.sin(2 * np.pi/T * t)\n",
    "    wz = A * np.sin(2 * np.pi/T * t - np.pi/4)\n",
    "    return np.array([wx, wy, wz])"
   ]
  },
  {
   "cell_type": "code",
   "execution_count": 6,
   "metadata": {},
   "outputs": [
    {
     "name": "stdout",
     "output_type": "stream",
     "text": [
      "[0. 0. 0.]\n"
     ]
    }
   ],
   "source": [
    "quad1 = Multirotor(mass, J) #No Imu preintegration\n",
    "imu = IMU()\n",
    "\n",
    "quad1_state = [deepcopy(quad1.state)]\n",
    "print(quad1_state[0].p_i)\n",
    "\n",
    "dt = 0.01\n",
    "t = 0.0\n",
    "num_steps = 2000\n",
    "kf_steps = 10\n",
    "\n",
    "x_rel3 = State() #Relative Pose: Carlone Paper\n",
    "rel_pose3 = []\n",
    "for i in range(1, num_steps):\n",
    "    #Get IMU Measurement\n",
    "    a_nom = np.ones(3) * 0.1 #getAccel(t)\n",
    "    w_nom = np.ones(3) * 0.1 #getGyro(t)\n",
    "    a, w = imu.getMeas(a_nom, w_nom)\n",
    "    \n",
    "    #Update dynamics\n",
    "    state1 = quad1.update(a_nom, w_nom, dt) #Probably want to update with measurements that have no noise\n",
    "    if not np.linalg.det(state1.Ri_from_b) == 1.0:\n",
    "        quad1.state.normalize()\n",
    "    quad1_state.append(deepcopy(quad1.state))\n",
    "    \n",
    "    #Integrate IMU\n",
    "    #Carlone Method\n",
    "    x_rel3.preIntegrate(a, w, dt)\n",
    "    if not np.linalg.det(x_rel3.Ri_from_b) == 1.0:\n",
    "        x_rel3.normalize()\n",
    "    \n",
    "    if i%kf_steps == 0:\n",
    "        rel_pose3.append(deepcopy(x_rel3))\n",
    "        x_rel3.reset()"
   ]
  },
  {
   "cell_type": "code",
   "execution_count": 7,
   "metadata": {
    "scrolled": true
   },
   "outputs": [
    {
     "name": "stdout",
     "output_type": "stream",
     "text": [
      "ORIENTATION\n",
      "[2.20950532e-16 6.79694566e-17 0.00000000e+00]\n",
      "VELOCITY\n",
      "[ 6.69134886e-14 -1.38934003e-14  1.76126475e-14]\n",
      "POSITION\n",
      "[-0.00470069  0.00091777 -0.00127208]\n"
     ]
    }
   ],
   "source": [
    "#Successive pre-integrated factors seem to get more and more error ...\n",
    "#Check orientation\n",
    "print(\"ORIENTATION\")\n",
    "n = 99\n",
    "state_j = quad1_state[n * kf_steps] #j to world\n",
    "state_0 = quad1_state[(n-1) * kf_steps] #0 to world\n",
    "state_ij = rel_pose3[n-1] #j to 0\n",
    "rR = vee(logm(state_ij.Ri_from_b.T @ state_0.Ri_from_b.T @ state_j.Ri_from_b))\n",
    "print(rR)\n",
    "\n",
    "#Check Velocity\n",
    "g = np.array([0, 0, 9.81])\n",
    "Ts =  dt * kf_steps\n",
    "print(\"VELOCITY\")\n",
    "term1 = state_0.Ri_from_b @ (state_j.v_i - state_0.v_i - g * Ts)\n",
    "print(term1 - state_ij.v_i)\n",
    "\n",
    "#Check Position\n",
    "print(\"POSITION\")\n",
    "term2 = state_0.Ri_from_b @ (state_j.p_i - state_0.p_i - Ts * state_0.v_i - 1/2 * g * Ts**2)\n",
    "print(term2 - state_ij.p_i)\n",
    "# print(term1, state_ij.p_i)\n",
    "# print(state_j.p_i, state_0.p_i, state_0.v_i, Ts, state_0.Ri_from_b)"
   ]
  },
  {
   "cell_type": "code",
   "execution_count": 13,
   "metadata": {},
   "outputs": [
    {
     "name": "stdout",
     "output_type": "stream",
     "text": [
      "0.004955504514670516\n"
     ]
    },
    {
     "data": {
      "image/png": "[encoded data removed]",
      "text/plain": [
       "<Figure size 432x288 with 3 Axes>"
      ]
     },
     "metadata": {
      "needs_background": "light"
     },
     "output_type": "display_data"
    }
   ],
   "source": [
    "errR = []\n",
    "errV = []\n",
    "errP = []\n",
    "for i in range(len(rel_pose3)):\n",
    "    state_j = quad1_state[(i+1) * kf_steps]\n",
    "    state_i = quad1_state[i*kf_steps]\n",
    "    state_ij = rel_pose3[i]\n",
    "    \n",
    "    R = vee(logm(state_ij.Ri_from_b.T @ state_i.Ri_from_b.T @ state_j.Ri_from_b))\n",
    "    errR.append(np.linalg.norm(R))\n",
    "    \n",
    "    term1 = state_i.Ri_from_b @ (state_j.v_i - state_i.v_i - g * Ts)\n",
    "    v = term1 - state_ij.v_i\n",
    "    errV.append(np.linalg.norm(v))\n",
    "    \n",
    "    term2 = state_i.Ri_from_b @ (state_j.p_i - state_i.p_i - Ts * state_i.v_i - Ts**2/2 * g)\n",
    "    p = term2 - state_ij.p_i\n",
    "    errP.append(np.linalg.norm(p))\n",
    "\n",
    "# print(np.min(errP))\n",
    "idx = np.arange(0, len(errR), 1)\n",
    "fig, ax = plt.subplots(3, 1)\n",
    "ax[0].plot(idx, errR)\n",
    "ax[1].plot(idx, errV)\n",
    "ax[2].plot(idx, errP) #What is with the weird jumps\n",
    "plt.show()\n"
   ]
  },
  {
   "cell_type": "code",
   "execution_count": null,
   "metadata": {},
   "outputs": [],
   "source": []
  }
 ],
 "metadata": {
  "kernelspec": {
   "display_name": "Python 3",
   "language": "python",
   "name": "python3"
  },
  "language_info": {
   "codemirror_mode": {
    "name": "ipython",
    "version": 3
   },
   "file_extension": ".py",
   "mimetype": "text/x-python",
   "name": "python",
   "nbconvert_exporter": "python",
   "pygments_lexer": "ipython3",
   "version": "3.6.9"
  }
 },
 "nbformat": 4,
 "nbformat_minor": 2
}
