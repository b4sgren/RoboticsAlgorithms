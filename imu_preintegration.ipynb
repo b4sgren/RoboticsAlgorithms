{
 "cells": [
  {
   "cell_type": "code",
   "execution_count": 4,
   "metadata": {},
   "outputs": [
    {
     "name": "stdout",
     "output_type": "stream",
     "text": [
      "['/usr/lib/python2.7/dist-packages/numpy']\n",
      "['', '/opt/ros/melodic/lib/python2.7/dist-packages', '/usr/lib/python2.7', '/usr/lib/python2.7/plat-x86_64-linux-gnu', '/usr/lib/python2.7/lib-tk', '/usr/lib/python2.7/lib-old', '/usr/lib/python2.7/lib-dynload', '/home/brendon/.local/lib/python2.7/site-packages', '/usr/local/lib/python2.7/dist-packages', '/usr/lib/python2.7/dist-packages', '/usr/lib/python2.7/dist-packages/wx-3.0-gtk3', '/home/brendon/.local/lib/python2.7/site-packages/IPython/extensions', '/home/brendon/.ipython']\n"
     ]
    }
   ],
   "source": [
    "#!/usr/bin/env python3\n",
    "'''\n",
    "Based on the work done in \n",
    "On-Manifold Preintegration for Real-Time Visual-Inertial Odometry,\n",
    "VINS-Mono: A Robust and Versatile Monocular Visual-Inertial State Estimator,\n",
    "and Vision-Based Control of Multirotor Systems (yet to be published)\n",
    "'''\n",
    "\n",
    "import numpy as np\n",
    "print(np.__path__) # find how to use python3 stuff in my .local file (can I set the path?)\n",
    "import sys\n",
    "print(sys.path)\n",
    "sys.path.append(\".\")"
   ]
  },
  {
   "cell_type": "code",
   "execution_count": 1,
   "metadata": {},
   "outputs": [],
   "source": [
    "class IMU:\n",
    "    def __init__(self):\n",
    "        self.ba = np.zeros(3) #Leave as zeros for now\n",
    "        self.bw = np.zeros(3)\n",
    "        self.covar_a = np.diag([0.1, 0.1, 0.1]) #look up good value for this\n",
    "        self.covar_w = np.diag([0.1, 0.1, 0.1]) #look up good values for this\n",
    "    \n",
    "    def getAccel(self, a_nom, w_nom):\n",
    "        noise_a = np.random.multivariate_normal(np.zeros(3), self.covar_a)\n",
    "        noise_w = np.random.multivariate_normal(np.zeros(3), self.covar_w)\n",
    "        a = a_nom + self.ba + noise_a\n",
    "        w = w_nom + self.bw + noise_w\n",
    "        \n",
    "        return a, w"
   ]
  },
  {
   "cell_type": "code",
   "execution_count": 2,
   "metadata": {},
   "outputs": [],
   "source": [
    "class Multirotor:\n",
    "    def __init__(self, m, J):\n",
    "        self.m = m\n",
    "        self.J = J\n",
    "        self.g = 9.81\n",
    "    \n",
    "    def dynamics():\n",
    "        debug = 1\n"
   ]
  }
 ],
 "metadata": {
  "kernelspec": {
   "display_name": "Python 3",
   "language": "python",
   "name": "python3"
  },
  "language_info": {
   "codemirror_mode": {
    "name": "ipython",
    "version": 2
   },
   "file_extension": ".py",
   "mimetype": "text/x-python",
   "name": "python",
   "nbconvert_exporter": "python",
   "pygments_lexer": "ipython2",
   "version": "2.7.17"
  }
 },
 "nbformat": 4,
 "nbformat_minor": 2
}
