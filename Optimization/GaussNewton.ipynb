{
 "cells": [
  {
   "cell_type": "code",
   "execution_count": 1,
   "source": [
    "import numpy as np\n",
    "import matplotlib.pyplot as plt\n",
    "import scipy.linalg as spl"
   ],
   "outputs": [],
   "metadata": {}
  },
  {
   "cell_type": "code",
   "execution_count": 2,
   "source": [
    "# Generate Data\n",
    "num_pts = 3\n",
    "\n",
    "lm = np.random.uniform(-100, 100, size=2)\n",
    "true_pos = [np.random.uniform(-100, 100, size=2) for i in range(num_pts)]\n",
    "true_ranges = [np.linalg.norm(lm - p) for p in true_pos]\n",
    "\n",
    "# Add Noise\n",
    "range_cov = 1e-2\n",
    "pos_cov = np.diag([1e-1, 1e-1])\n",
    "ranges = [r + np.random.normal(0, np.sqrt(range_cov)) for r in true_ranges]\n",
    "# TODO: Add noisy positions"
   ],
   "outputs": [],
   "metadata": {}
  },
  {
   "cell_type": "code",
   "execution_count": 4,
   "source": [
    "class RangeResidual:\n",
    "    def __init__(self, range, position, cov):\n",
    "        self._range = range \n",
    "        self._position = position\n",
    "        self._info = 1/cov\n",
    "\n",
    "    def __call__(self, lm):\n",
    "        r_hat = np.linalg.norm(lm - self._position)\n",
    "        return (r_hat - self._range)**2 * self._info\n",
    "    \n",
    "    def getInfo(self):\n",
    "        return self._info\n",
    "    \n",
    "    def jacobian(self, lm):\n",
    "        dx = lm - self._position\n",
    "        r_hat = np.linalg.norm(dx)\n",
    "        jac = 2 * self._info * (r_hat - self._range) * dx/r_hat\n",
    "        return jac\n",
    "    \n",
    "    def size(self):\n",
    "        return 1"
   ],
   "outputs": [],
   "metadata": {}
  },
  {
   "cell_type": "code",
   "execution_count": 5,
   "source": [
    "class GaussNewton:\n",
    "    def __init__(self):\n",
    "        self._vars = {}\n",
    "        self._residuals = {}\n",
    "        self._var_sizes = {}\n",
    "    \n",
    "    def addResidual(self, var_id, var, residual):\n",
    "        if var_id not in self._vars:\n",
    "            self._vars[var_id] = var\n",
    "            self._var_sizes[var_id] = var.size\n",
    "        self._residuals[residual] = var_id\n",
    "    \n",
    "    def optimize(self):\n",
    "        residual_size = np.sum([r.size() for r in self._residuals.keys()])\n",
    "        var_size = np.sum(self._var_sizes.values())\n",
    "        dx = np.ones(var_size) * 1e6\n",
    "\n",
    "        # Note that this implementation isn't generic\n",
    "        while np.linalg.norm(dx, ord='inf') > 1e-3:\n",
    "            v = np.array([res(self._vars[id]) for res, id in self._residuals])\n",
    "            R_inv = spl.block_diag([res.getInfo() \\\n",
    "                    for res in self._residuals.keys()])\n",
    "            J = np.zeros((residual_size, var_size))\n",
    "            J_vec = [res.jacobian(self._vars[val]) \\\n",
    "                    for _, val in self._residuals]\n",
    "            for i, res in enumerate(res):\n",
    "                J[i] = J_vec[i]\n",
    "            \n",
    "            b = J.T @ R_inv @ v\n",
    "            A = J @ R_inv @ J.T\n",
    "\n",
    "            dx = np.linalg.solve(A,b) # Normally done via cholesky\n",
    "\n",
    "            # How to generically update\n",
    "            self._vars[0] += dx\n",
    "        \n",
    "        return np.array([self._vars.values()])\n",
    "            "
   ],
   "outputs": [],
   "metadata": {}
  },
  {
   "cell_type": "code",
   "execution_count": null,
   "source": [
    "residuals = [RangeResidual(r, p, range_cov) for r,p in zip(ranges, true_pos)]\n",
    "lm_init = lm + np.array([10, -10])\n",
    "\n",
    "optimizer = GaussNewton()\n",
    "for res in residuals:\n",
    "    optimizer.addResidual(0, lm, res)\n",
    "\n",
    "lm_est = optimizer.optimize()"
   ],
   "outputs": [],
   "metadata": {}
  }
 ],
 "metadata": {
  "orig_nbformat": 4,
  "language_info": {
   "name": "python",
   "version": "3.8.10",
   "mimetype": "text/x-python",
   "codemirror_mode": {
    "name": "ipython",
    "version": 3
   },
   "pygments_lexer": "ipython3",
   "nbconvert_exporter": "python",
   "file_extension": ".py"
  },
  "kernelspec": {
   "name": "python3",
   "display_name": "Python 3.8.10 64-bit"
  },
  "interpreter": {
   "hash": "916dbcbb3f70747c44a77c7bcd40155683ae19c65e1c03b4aa3499c5328201f1"
  }
 },
 "nbformat": 4,
 "nbformat_minor": 2
}